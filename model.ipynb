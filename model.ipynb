{
 "cells": [
  {
   "cell_type": "code",
   "execution_count": null,
   "id": "d38175b8-0e2f-449d-aedd-b248005272b1",
   "metadata": {
    "tags": []
   },
   "outputs": [],
   "source": [
    "import os\n",
    "import json\n",
    "import time\n",
    "\n",
    "import numpy as np\n",
    "import matplotlib.pyplot as plt\n",
    "from tqdm import tqdm\n",
    "\n",
    "import torch\n",
    "import torch.nn as nn\n",
    "\n",
    "import display\n",
    "from dataset.libri import load_data\n",
    "from models import FCAE, CDAE, UNet\n",
    "from train import set_device, train, evaluate\n",
    "\n",
    "# Set compute device\n",
    "device = set_device(verbose=True)"
   ]
  },
  {
   "cell_type": "markdown",
   "id": "a09c0208-efb7-43be-ad65-03e70b29f7d8",
   "metadata": {},
   "source": [
    "## Fully-Connected Autoencoder"
   ]
  },
  {
   "cell_type": "code",
   "execution_count": null,
   "id": "325c0f7c-6ec0-403e-a987-38bdc3ff0f4d",
   "metadata": {},
   "outputs": [],
   "source": [
    "params = {\n",
    "    'network': FCAE,\n",
    "    'data': {\n",
    "        'N': 10,\n",
    "        'test_size': .10,\n",
    "        'data_root': 'data/noised_synth_babble',\n",
    "        'libri_root': 'data/LibriSpeech/dev-clean',\n",
    "        'batch_size': 8,\n",
    "        'pin_memory': (device == 'cuda'),\n",
    "        'conv': False,\n",
    "        'seed': 1,\n",
    "        'srate': 16000\n",
    "    },\n",
    "    'model': {\n",
    "        'in_shape': (256, 256),\n",
    "        'n_layers': 4,\n",
    "        'z_dim': 8\n",
    "    },\n",
    "    'train': {\n",
    "        'epochs': 2,\n",
    "        'learning_rate': 0.001,\n",
    "        'criterion': nn.MSELoss()\n",
    "    }\n",
    "}"
   ]
  },
  {
   "cell_type": "markdown",
   "id": "2bbfc7c3-c693-4589-a1e7-176892f3bda3",
   "metadata": {
    "tags": []
   },
   "source": [
    "## Convolutional Autoencoder"
   ]
  },
  {
   "cell_type": "code",
   "execution_count": null,
   "id": "e802edb8-ea1e-47b6-bcae-1dab5c0f4778",
   "metadata": {},
   "outputs": [],
   "source": [
    "params = {\n",
    "    'network': CDAE,\n",
    "    'data': {\n",
    "        'N': 10,\n",
    "        'test_size': .10,\n",
    "        'data_root': 'data/noised_synth_babble',\n",
    "        'libri_root': 'data/LibriSpeech/dev-clean',\n",
    "        'batch_size': 8,\n",
    "        'pin_memory': (device == 'cuda'),\n",
    "        'conv': True,\n",
    "        'seed': 1,\n",
    "        'srate': 16000\n",
    "    },\n",
    "    'model': {\n",
    "        'n_layers': 4,\n",
    "        'z_dim': 8,\n",
    "        'in_channels': 1,\n",
    "        'batch_norm': True\n",
    "    },\n",
    "    'train': {\n",
    "        'epochs': 2,\n",
    "        'learning_rate': 0.001,\n",
    "        'criterion': nn.BCELoss()\n",
    "    }\n",
    "}"
   ]
  },
  {
   "cell_type": "markdown",
   "id": "e4126a2b-4a3b-426a-a57f-60b3bde17774",
   "metadata": {},
   "source": [
    "## U-Net"
   ]
  },
  {
   "cell_type": "code",
   "execution_count": null,
   "id": "a3ca3bd7-6650-4ad1-ac60-46f21c84dc30",
   "metadata": {},
   "outputs": [],
   "source": [
    "params = {\n",
    "    'network': UNet,\n",
    "    'data': {\n",
    "        'N': 10,\n",
    "        'test_size': .10,\n",
    "        'data_root': 'data/noised_synth_babble',\n",
    "        'libri_root': 'data/LibriSpeech/dev-clean',\n",
    "        'batch_size': 8,\n",
    "        'pin_memory': (device == 'cuda'),\n",
    "        'conv': True,\n",
    "        'seed': 1,\n",
    "        'srate': 16000\n",
    "    },\n",
    "    'model': {\n",
    "        'in_shape': (256, 256),\n",
    "        'in_channels': 1,\n",
    "        'n_classes': 1,\n",
    "        'encoder_channels': (4, 8, 16),\n",
    "        'decoder_channels': (16, 8, 4),\n",
    "        'retain_dim': True\n",
    "    },\n",
    "    'train': {\n",
    "        'epochs': 2,\n",
    "        'learning_rate': 0.001,\n",
    "        'criterion': nn.BCEWithLogitsLoss()\n",
    "    }\n",
    "}"
   ]
  },
  {
   "cell_type": "code",
   "execution_count": null,
   "id": "251c012d-4057-4033-adab-ade62209ae4a",
   "metadata": {},
   "outputs": [],
   "source": [
    "model = params['network'](**params['model']).to(device)\n",
    "print(model)\n",
    "print('---')\n",
    "\n",
    "print('\\nLoading data...\\n')\n",
    "data_train, train_dl, data_val, val_dl, data_test = load_data(**params['data'])\n",
    "display.show_split_sizes((data_train, data_val, data_test))\n",
    "   \n",
    "print('\\nTraining model...\\n')\n",
    "model, hist = train(device, model, train_dl, val_dl, **params['train'])\n",
    "\n",
    "# Plot Losses\n",
    "fig, ax = plt.subplots(figsize=(10, 5))\n",
    "ax = display.plot_losses(ax, hist, repr(params['train']['criterion']))\n",
    "fig.show()\n",
    "\n",
    "# Evaluate Model\n",
    "fig, axes = evaluate(device, model, data_test)\n",
    "fig.show()"
   ]
  }
 ],
 "metadata": {
  "kernelspec": {
   "display_name": "Python 3 (ipykernel)",
   "language": "python",
   "name": "python3"
  },
  "language_info": {
   "codemirror_mode": {
    "name": "ipython",
    "version": 3
   },
   "file_extension": ".py",
   "mimetype": "text/x-python",
   "name": "python",
   "nbconvert_exporter": "python",
   "pygments_lexer": "ipython3",
   "version": "3.9.7"
  }
 },
 "nbformat": 4,
 "nbformat_minor": 5
}
