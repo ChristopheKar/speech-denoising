{
 "cells": [
  {
   "cell_type": "code",
   "execution_count": null,
   "id": "4a5e1b4e-5ce9-4dc9-b767-f506749a8936",
   "metadata": {},
   "outputs": [],
   "source": [
    "# !pip install librosa"
   ]
  },
  {
   "cell_type": "code",
   "execution_count": 9,
   "id": "4f51a771-a1a0-4154-b65e-d3953611347e",
   "metadata": {},
   "outputs": [],
   "source": [
    "import os\n",
    "import json\n",
    "\n",
    "import numpy as np\n",
    "import librosa\n",
    "\n",
    "from audio import wav_to_mag_phase, mag_phase_to_wav\n",
    "import dataset"
   ]
  },
  {
   "cell_type": "markdown",
   "id": "a955af54-dfcf-4883-be8e-991b5d3a3209",
   "metadata": {
    "tags": []
   },
   "source": [
    "## Load Datasets"
   ]
  },
  {
   "cell_type": "code",
   "execution_count": 10,
   "id": "61ae3ef5-2dd4-4f4a-afdf-b83f820e7793",
   "metadata": {},
   "outputs": [
    {
     "name": "stdout",
     "output_type": "stream",
     "text": [
      "Dataset Size: 2703\n"
     ]
    }
   ],
   "source": [
    "librispeech_fmt = ('waveform', 'sample_rate', 'utterance', 'speaker_id', 'chapter_id', 'utterance_id')\n",
    "\n",
    "data_root = 'data'\n",
    "data_dir = 'LibriSpeech'\n",
    "subset_name = 'dev-clean'\n",
    "\n",
    "srate = 16000\n",
    "\n",
    "ds = dataset.load_librispeech_subset(subset_name, data_root, data_dir)\n",
    "N = len(ds)\n",
    "print('Dataset Size: {}'.format(N))\n",
    "\n",
    "\n",
    "# Load Room Noise Data\n",
    "data_dir = 'RIRS_NOISES/real_rirs_isotropic_noises'\n",
    "fname = 'RVB2014_type1_noise_largeroom1_10.wav'\n",
    "room, sr = librosa.load(os.path.join(data_root, data_dir, fname))"
   ]
  },
  {
   "cell_type": "markdown",
   "id": "eafe68fc-093b-484a-8be5-234e85ccaed3",
   "metadata": {},
   "source": [
    "## Create Dataset"
   ]
  },
  {
   "cell_type": "code",
   "execution_count": 11,
   "id": "01050bd1-196d-4e90-88ef-1e7e8b0589f1",
   "metadata": {},
   "outputs": [],
   "source": [
    "# Dataset Options\n",
    "\n",
    "g_babble_range = np.linspace(0.05, 0.2, 5)\n",
    "g_room_range = np.linspace(0.5, 2, 4)\n",
    "n_samples_babble_range = np.arange(10, 71, 10)\n",
    "niters = 2\n",
    "\n",
    "data_dir = 'data/noised_synth_babble'\n",
    "os.makedirs(data_dir, exist_ok=True)\n",
    "\n",
    "rng = np.random.default_rng()"
   ]
  },
  {
   "cell_type": "code",
   "execution_count": 12,
   "id": "c81b6b63-e10f-45ed-8b61-3a1986aaaf81",
   "metadata": {},
   "outputs": [
    {
     "name": "stdout",
     "output_type": "stream",
     "text": [
      "Progress: 200/200\r"
     ]
    }
   ],
   "source": [
    "N = len(ds)\n",
    "N = 200\n",
    "for idx in range(N):\n",
    "    \n",
    "    sample = ds[idx][0].numpy()[0]\n",
    "    \n",
    "    # split samples\n",
    "    n_splits, rem = sample.shape[0]//srate, sample.shape[0]%srate\n",
    "    if (rem == 0):\n",
    "        sample_splits = np.array_split(sample, n_splits)\n",
    "    else:\n",
    "        sample_splits = np.array_split(sample[:-rem], n_splits) +  [np.pad(sample[-rem:], (0, srate - rem))]\n",
    "    \n",
    "    # compute sample stfts\n",
    "    sample_mags, sample_phases = [], []\n",
    "    for sample_split in sample_splits:\n",
    "        sample_mag, sample_phase = wav_to_mag_phase(sample_split, n_fft=512, hop_len=64, win_len=512)\n",
    "        sample_mag, sample_phase=  np.pad(sample_mag, ((0, 0), (0, 2))), np.pad(sample_phase, ((0, 0), (0, 2)))\n",
    "        sample_mags.append(sample_mag)\n",
    "        sample_phases.append(sample_phase)\n",
    "    sample_mags, sample_phases = np.asarray(sample_mags), np.asarray(sample_phases)\n",
    "    \n",
    "    for niter in range(niters):\n",
    "        # loop over all babble gains\n",
    "        for g_babble in g_babble_range:\n",
    "            # create synthetic babble and add to sample\n",
    "            n_babble_samples = rng.choice(n_samples_babble_range)\n",
    "            synth_babble = dataset.create_synthetic_babble(\n",
    "                ds, max_len=sample.shape[0], \n",
    "                n_samples=n_babble_samples, flip_prob=0.4, srate=srate)\n",
    "\n",
    "            noisy_sample, noise_b = dataset.add_noise_source(sample, synth_babble, g=g_babble)\n",
    "            # randomly choose a gain for room noise and add to noised sample\n",
    "            g_room = rng.choice(g_room_range)\n",
    "            noisy_sample, noise_r = dataset.add_noise_source(noisy_sample, room, g=g_room)\n",
    "            noise = noise_b*g_babble + noise_r*g_room\n",
    "            meta = {\n",
    "                'libri_sample_idx': idx,\n",
    "                'n_babble_samples': int(n_babble_samples),\n",
    "                'babble_gain': float(g_babble),\n",
    "                'room_gain': float(g_room),\n",
    "                'flip_prob': 0.4,\n",
    "                'srate': int(srate),\n",
    "                'filename': f'noised_s{idx}_n{n_babble_samples}_gb{g_babble}_gr{g_room}_{niter}'\n",
    "            }\n",
    "            \n",
    "            # split noises\n",
    "            if (rem == 0):\n",
    "                noise_splits = np.array_split(noise, n_splits)\n",
    "                noised_splits = np.array_split(noisy_sample, n_splits)\n",
    "            else:\n",
    "                noise_splits = np.array_split(noise[:-rem], n_splits) +  [np.pad(noise[-rem:], (0, srate - rem))]\n",
    "                noised_splits = np.array_split(noisy_sample[:-rem], n_splits) +  [np.pad(noisy_sample[-rem:], (0, srate - rem))]\n",
    "\n",
    "            # compute noise stfts\n",
    "            noise_mags, noise_phases = [], []\n",
    "            for noise_split in noise_splits:\n",
    "                noise_mag, noise_phase = wav_to_mag_phase(noise_split, n_fft=1024)\n",
    "                noise_mags.append(noise_mag)\n",
    "                noise_phases.append(noise_phase)\n",
    "            noise_mags, noise_phases = np.asarray(noise_mags), np.asarray(noise_phases)\n",
    "            \n",
    "            noised_mags, noised_phases = [], []\n",
    "            for noised_split in noised_splits:\n",
    "                noised_mag, noised_phase = wav_to_mag_phase(noised_split, n_fft=512, hop_len=64, win_len=512)\n",
    "                noised_mags.append(noised_mag)\n",
    "                noised_phases.append(noised_phase)\n",
    "            noised_mags, noised_phases = np.asarray(noised_mags), np.asarray(noised_phases)\n",
    "            \n",
    "            \n",
    "            # save data\n",
    "            dirpath = os.path.join(data_dir, meta['filename'])\n",
    "            os.makedirs(dirpath, exist_ok=True)\n",
    "            np.save(os.path.join(dirpath, 'noise.npy'), noise)\n",
    "            np.save(os.path.join(dirpath, 'noised.npy'), noisy_sample)\n",
    "            with open(os.path.join(dirpath, 'meta.json'), 'w') as fobj:\n",
    "                json.dump(meta, fobj)\n",
    "                \n",
    "            np.save(os.path.join(dirpath, 'sample_stft_mags.npy'), sample_mags)\n",
    "            np.save(os.path.join(dirpath, 'sample_stft_phases.npy'), sample_phases)\n",
    "            \n",
    "            np.save(os.path.join(dirpath, 'noise_stft_mags.npy'), noise_mags)\n",
    "            np.save(os.path.join(dirpath, 'noise_stft_phases.npy'), noise_phases)\n",
    "            \n",
    "            np.save(os.path.join(dirpath, 'noised_stft_mags.npy'), noised_mags)\n",
    "            np.save(os.path.join(dirpath, 'noised_stft_phases.npy'), noised_phases)\n",
    "            \n",
    "    print('Progress: {}/{}'.format(idx+1, N), end='\\r')"
   ]
  }
 ],
 "metadata": {
  "kernelspec": {
   "display_name": "Python 3 (ipykernel)",
   "language": "python",
   "name": "python3"
  },
  "language_info": {
   "codemirror_mode": {
    "name": "ipython",
    "version": 3
   },
   "file_extension": ".py",
   "mimetype": "text/x-python",
   "name": "python",
   "nbconvert_exporter": "python",
   "pygments_lexer": "ipython3",
   "version": "3.9.7"
  }
 },
 "nbformat": 4,
 "nbformat_minor": 5
}
