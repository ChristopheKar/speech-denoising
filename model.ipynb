{
 "cells": [
  {
   "cell_type": "code",
   "execution_count": null,
   "id": "d38175b8-0e2f-449d-aedd-b248005272b1",
   "metadata": {
    "tags": []
   },
   "outputs": [],
   "source": [
    "import os\n",
    "import json\n",
    "import time\n",
    "import pickle\n",
    "\n",
    "import numpy as np\n",
    "import matplotlib.pyplot as plt\n",
    "from tqdm import tqdm\n",
    "\n",
    "import torch\n",
    "import torch.nn as nn\n",
    "\n",
    "import display\n",
    "from dataset.libri import load_data\n",
    "from models import FCAE, CDAE, UNet\n",
    "import train\n",
    "\n",
    "# Set compute device\n",
    "device = train.set_device(verbose=True)"
   ]
  },
  {
   "cell_type": "markdown",
   "id": "8297685a-64bf-404b-aeba-1af6948e0334",
   "metadata": {},
   "source": [
    "## Training/Evaluation"
   ]
  },
  {
   "cell_type": "code",
   "execution_count": null,
   "id": "251c012d-4057-4033-adab-ade62209ae4a",
   "metadata": {},
   "outputs": [],
   "source": [
    "config_path = 'configs/fcae.json'\n",
    "params = train.load_params_from_config(config_path, device)\n",
    "params['data']['N'] = 1\n",
    "params['train']['epochs'] = 20\n",
    "params['train']['learning_rate'] = 0.001\n",
    "\n",
    "model = params['network'](**params['model']).to(device)\n",
    "print(model)\n",
    "print('---')\n",
    "\n",
    "print('\\nLoading data...\\n')\n",
    "data_train, train_dl, data_val, val_dl, data_test = load_data(\n",
    "    **params['data'])\n",
    "display.show_split_sizes((data_train, data_val, data_test))\n",
    "\n",
    "print('\\nTraining model...\\n')\n",
    "model, hist = train.train(\n",
    "    device, model, params['name'],\n",
    "    train_dl, val_dl,\n",
    "    **params['train'])\n",
    "\n",
    "print('\\nLoading trained model...\\n')\n",
    "model = params['network'](**params['model']).to(device)\n",
    "model.load_state_dict(torch.load(\n",
    "    hist['model_path'], map_location=device))\n",
    "\n",
    "# Plot Losses\n",
    "fig, ax = plt.subplots(figsize=(10, 5))\n",
    "ax = display.plot_losses(ax, hist, repr(params['train']['criterion']))\n",
    "fig.show()\n",
    "\n",
    "# Evaluate Model\n",
    "fig, axes = train.evaluate(device, model, data_test)\n",
    "fig.show()"
   ]
  }
 ],
 "metadata": {
  "kernelspec": {
   "display_name": "Python 3 (ipykernel)",
   "language": "python",
   "name": "python3"
  },
  "language_info": {
   "codemirror_mode": {
    "name": "ipython",
    "version": 3
   },
   "file_extension": ".py",
   "mimetype": "text/x-python",
   "name": "python",
   "nbconvert_exporter": "python",
   "pygments_lexer": "ipython3",
   "version": "3.9.7"
  }
 },
 "nbformat": 4,
 "nbformat_minor": 5
}
